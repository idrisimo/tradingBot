{
 "cells": [
  {
   "cell_type": "code",
   "execution_count": 1,
   "metadata": {},
   "outputs": [],
   "source": [
    "from Classes.AlpacaController import AlpacaController\n",
    "from pprint import pprint\n",
    "from dotenv import load_dotenv\n",
    "import pandas as pd\n",
    "import numpy as np\n",
    "import os\n",
    "\n",
    "\n",
    "load_dotenv()\n",
    "\n",
    "api_key = os.environ['ALPACA_API_KEY']\n",
    "secret_key = os.environ['ALPACA_SECRET_KEY']\n",
    "alpaca = AlpacaController(api_key, secret_key)"
   ]
  },
  {
   "cell_type": "code",
   "execution_count": null,
   "metadata": {},
   "outputs": [],
   "source": [
    "latest_data = alpaca.get_latest_shares_data(['SPY', 'GLD'])\n",
    "pprint(latest_data)"
   ]
  },
  {
   "cell_type": "code",
   "execution_count": null,
   "metadata": {},
   "outputs": [],
   "source": [
    "bars_data = alpaca.get_historical_data(['SPY', 'GLD'], 100)\n",
    "pprint(bars_data)"
   ]
  },
  {
   "cell_type": "code",
   "execution_count": 26,
   "metadata": {},
   "outputs": [
    {
     "name": "stdout",
     "output_type": "stream",
     "text": [
      "['IQSI']\n"
     ]
    }
   ],
   "source": [
    "available_assets = alpaca.get_available_assets()\n",
    "ticker_list = ['IQSI']\n",
    "\n",
    "# matches = []\n",
    "\n",
    "# for asset in available_assets:\n",
    "#     if asset.symbol in ticker_list:\n",
    "#         matches.append(asset)\n",
    "        \n",
    "# print(matches)\n",
    "\n",
    "matches = [asset.symbol for asset in available_assets if asset.symbol in ticker_list and asset.tradable]\n",
    "print(matches)\n",
    "# pprint(available_assets[0].__dict__['symbol'])\n",
    "# # pprint(available_assets['IKGPF'])\n",
    "# # for asset in available_assets:\n",
    "# #     if asset.tradable:\n",
    "# #         pprint(asset)\n",
    "# pprint(available_assets)"
   ]
  },
  {
   "cell_type": "code",
   "execution_count": null,
   "metadata": {},
   "outputs": [],
   "source": [
    "account = alpaca.get_account()\n",
    "pprint(account)"
   ]
  },
  {
   "cell_type": "code",
   "execution_count": null,
   "metadata": {},
   "outputs": [],
   "source": [
    "orders = alpaca.get_all_orders('closed', 'sell')\n",
    "\n",
    "pprint(orders)"
   ]
  },
  {
   "cell_type": "code",
   "execution_count": null,
   "metadata": {},
   "outputs": [],
   "source": [
    "buy_shares = alpaca.buy_shares('SPY', 1)\n",
    "pprint(buy_shares)"
   ]
  },
  {
   "cell_type": "code",
   "execution_count": null,
   "metadata": {},
   "outputs": [],
   "source": [
    "sell_shares = alpaca.sell_shares('SPY', 1)\n",
    "pprint(sell_shares)\n"
   ]
  },
  {
   "cell_type": "code",
   "execution_count": null,
   "metadata": {},
   "outputs": [],
   "source": [
    "buy_shares = alpaca.limit_buy_order('SPY', 543.40, 543.70, 543.40)\n",
    "pprint(buy_shares)"
   ]
  }
 ],
 "metadata": {
  "kernelspec": {
   "display_name": "tradingBot-Hg1qjOQO",
   "language": "python",
   "name": "python3"
  },
  "language_info": {
   "codemirror_mode": {
    "name": "ipython",
    "version": 3
   },
   "file_extension": ".py",
   "mimetype": "text/x-python",
   "name": "python",
   "nbconvert_exporter": "python",
   "pygments_lexer": "ipython3",
   "version": "3.10.4"
  }
 },
 "nbformat": 4,
 "nbformat_minor": 2
}
